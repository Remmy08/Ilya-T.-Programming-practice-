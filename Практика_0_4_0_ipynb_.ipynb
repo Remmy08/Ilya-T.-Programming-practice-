{
  "nbformat": 4,
  "nbformat_minor": 0,
  "metadata": {
    "colab": {
      "provenance": []
    },
    "kernelspec": {
      "name": "python3",
      "display_name": "Python 3"
    },
    "language_info": {
      "name": "python"
    }
  },
  "cells": [
    {
      "cell_type": "markdown",
      "source": [
        "Введите ваше ФИО:"
      ],
      "metadata": {
        "id": "k8oVfdwrMXyc"
      }
    },
    {
      "cell_type": "code",
      "execution_count": null,
      "metadata": {
        "id": "5mcBLsKMI1-5"
      },
      "outputs": [],
      "source": [
        "Тыщенко Илья"
      ]
    },
    {
      "cell_type": "markdown",
      "source": [
        "***Дисклеймер***\n",
        "\n",
        "В данной практике запрещено использования функций:\n",
        "\n",
        "\n",
        "*   sum()\n",
        "*   min()\n",
        "*   max()\n",
        "*   average()\n",
        "*   reversed()\n",
        "*   sorted()\n",
        "*   готовые функции или библиотеки\n"
      ],
      "metadata": {
        "id": "8HbYUbm3Jw3o"
      }
    },
    {
      "cell_type": "markdown",
      "source": [
        "\n",
        "**Задача 1:**\n",
        "\n",
        "\n",
        "\n",
        "Интернет-магазин предлагает следующие условия скидок:\n",
        "\n",
        "*   Для заказов больше 1000 единиц, клиент получает скидку 5%. Если клиент использует промокод SUPERDISCOUNT, он получает скидку 10% (вместо 5%).\n",
        "*  Для заказов более 5000 единиц, клиент получает скидку 15%, а использование промокода SUPERDISCOUNT увеличивает скидку до 20% (вместо 15%).\n",
        "\n",
        "Этап 1:\n",
        "Ввод:\n",
        "```\n",
        "Введите стоимость единицы товара: 5\n",
        "Введите количество товара: 1001\n",
        "Введите промокод: GiVEMEDISCONT\n",
        "```\n",
        "\n",
        "Вывод:\n",
        "\n",
        "```\n",
        "Ваша скидка: 5%\n",
        "Итоговая сумма: 4754.75\n",
        "```\n",
        "Этап 2:\n",
        "\n",
        "Оформите ваш код в виде функции"
      ],
      "metadata": {
        "id": "HmX0c6YPJSQr"
      }
    },
    {
      "cell_type": "code",
      "source": [
        "price = int(input('Введите стоимость единицы товара: '))\n",
        "amount = int(input('Введите количество товара: '))\n",
        "promo = str(input('Введите промокод: '))\n",
        "if amount > 1000 and amount <= 5000:\n",
        "  if promo == 'SUPERDISCOUNT':\n",
        "    discount = 10\n",
        "  else:\n",
        "    discount = 5\n",
        "elif amount > 5000:\n",
        "  if promo == 'SUPERDISCOUNT':\n",
        "    discount = 20\n",
        "  else:\n",
        "    discount = 15\n",
        "print('Ваша скидка:', str(discount)+'%')\n",
        "print('Итоговая сумма:', price*amount-((price*amount)/100*discount))\n"
      ],
      "metadata": {
        "id": "OAIMIpklMN5D",
        "colab": {
          "base_uri": "https://localhost:8080/"
        },
        "outputId": "3e035b21-8b3d-47b2-b9ec-559f290df5ba"
      },
      "execution_count": null,
      "outputs": [
        {
          "output_type": "stream",
          "name": "stdout",
          "text": [
            "Введите стоимость единицы товара: 5\n",
            "Введите количество товара: 1001\n",
            "Введите промокод: GiVEMEDISCONT\n",
            "Ваша скидка: 5%\n",
            "Итоговая сумма: 4754.75\n"
          ]
        }
      ]
    },
    {
      "cell_type": "markdown",
      "source": [
        "**Задача 2:**\n",
        "\n",
        "Этап 1:\n",
        "Напишите программу способную отфильтровать список и вывести только положительные элементы\n",
        "\n",
        "\n",
        "Ввод:\n",
        "```\n",
        "-1 5 1 2 -3\n",
        "```\n",
        "\n",
        "Вывод:\n",
        "\n",
        "```\n",
        "5 1 2\n",
        "```\n",
        "\n",
        "Этап 2:\n",
        "\n",
        "Оформите ваш код в виде функции"
      ],
      "metadata": {
        "id": "eeRVWpuLNGJ0"
      }
    },
    {
      "cell_type": "code",
      "source": [
        "list =input().split()\n",
        "end = ''\n",
        "for i in list:\n",
        "  if int(i) > 0:\n",
        "    end += str(i) + ' '\n",
        "print(end)"
      ],
      "metadata": {
        "id": "Xbi6bL0WOE9N",
        "colab": {
          "base_uri": "https://localhost:8080/"
        },
        "outputId": "c7e5bba5-1f99-465a-b571-f4610dffb8fc"
      },
      "execution_count": null,
      "outputs": [
        {
          "output_type": "stream",
          "name": "stdout",
          "text": [
            "-1 5 1 2 -3\n",
            "5 1 2 \n"
          ]
        }
      ]
    },
    {
      "cell_type": "markdown",
      "source": [
        "**Задача 3:**\n",
        "\n",
        "Этап 1:\n",
        "Напишите программу реализующую Алгоритм Евклида\n",
        "\n",
        "\n",
        "> Алгоритм Евклида – это алгоритм нахождения наибольшего общего делителя (НОД) пары целых чисел.\n",
        "\n",
        "Чуть подробнее, если вы забыли: [link](https://skysmart.ru/articles/mathematic/naibolshij-obshchij-delitel)\n",
        "\n",
        "\n",
        "Ввод:\n",
        "```\n",
        "30 18\n",
        "```\n",
        "\n",
        "Вывод:\n",
        "\n",
        "```\n",
        "6\n",
        "```\n",
        "\n",
        "Этап 2:\n",
        "Оформите ваш код в виде функции\n"
      ],
      "metadata": {
        "id": "lV-w6G-POa6F"
      }
    },
    {
      "cell_type": "code",
      "source": [
        "list =input().split()\n",
        "number1 = []\n",
        "number2 = []\n",
        "nod = []\n",
        "max = 0\n",
        "for i in range(1,int(list[0])+1):\n",
        "  if (int(list[0]) % i) == 0:\n",
        "    number1.append(i)\n",
        "for i in range(1,int(list[1])+1):\n",
        "  if (int(list[1]) % i) == 0:\n",
        "    number2.append(i)\n",
        "for i in number1:\n",
        "  for j in number2:\n",
        "    if i == j:\n",
        "      nod.append(i)\n",
        "for i in nod:\n",
        "  if i > max:\n",
        "    max = i\n",
        "print(max)"
      ],
      "metadata": {
        "id": "X2n6fnd91yt7",
        "colab": {
          "base_uri": "https://localhost:8080/"
        },
        "outputId": "bb3f5903-ed9a-4d7e-aff0-d686a3e22a84"
      },
      "execution_count": null,
      "outputs": [
        {
          "output_type": "stream",
          "name": "stdout",
          "text": [
            "16 4\n",
            "4\n"
          ]
        }
      ]
    },
    {
      "cell_type": "markdown",
      "source": [
        "**Задача 4:**\n",
        "\n",
        "Этап 1:\n",
        "Напишите функцию программу, которая принимает строку и возвращает список слов и количество их упомнинаний в предложении\n",
        "\n",
        "Этап 2:\n",
        "Оформите ваш код в виде функции\n",
        "\n",
        "Ввод:\n",
        "```\n",
        "apple banana apple\n",
        "```\n",
        "\n",
        "Вывод:\n",
        "\n",
        "```\n",
        "apple: 2,\n",
        "banana: 1\n",
        "```"
      ],
      "metadata": {
        "id": "WIfPFxpsO0zL"
      }
    },
    {
      "cell_type": "code",
      "source": [
        "string = input().split()\n",
        "words = []\n",
        "numbers = []\n",
        "for i in range(0,len(string)):\n",
        "  count = 0\n",
        "  for j in range(0,len(string)):\n",
        "    if string[i] == string[j]:\n",
        "      count += 1\n",
        "  words.append(string[i])\n",
        "  numbers.append(count)\n",
        "li = []\n",
        "for i in words:\n",
        "  if i not in li:\n",
        "    li.append(i)\n",
        "for i in range(0,len(li)):\n",
        "  print(li[i] + ':', numbers[i])\n"
      ],
      "metadata": {
        "id": "DgsmFeW5Po_x",
        "colab": {
          "base_uri": "https://localhost:8080/"
        },
        "outputId": "45ddd930-5ade-4f8d-d377-7e13516e6336"
      },
      "execution_count": null,
      "outputs": [
        {
          "output_type": "stream",
          "name": "stdout",
          "text": [
            "apple banana apple apple banana apple\n",
            "apple: 4\n",
            "banana: 2\n"
          ]
        }
      ]
    },
    {
      "cell_type": "markdown",
      "source": [
        "**Задача 5:**\n",
        "\n",
        "Этап 1:\n",
        "Детектор анаграмм Напишите программу на Python, которая принимает в качестве входных данных две строки и проверяет, являются ли они анаграммами друг друга\n",
        "\n",
        "Этап 2:\n",
        "Оформите ваш код в виде функции\n",
        "\n",
        "Ввод:\n",
        "```\n",
        "listen, silent\n",
        "```\n",
        "\n",
        "Вывод:\n",
        "\n",
        "```\n",
        "True\n",
        "```"
      ],
      "metadata": {
        "id": "5BmIJLUZP9I-"
      }
    },
    {
      "cell_type": "code",
      "source": [],
      "metadata": {
        "id": "7LNW8DuHQJwH"
      },
      "execution_count": null,
      "outputs": []
    },
    {
      "cell_type": "markdown",
      "source": [
        "**Задача 6:**\n",
        "\n",
        "Шифр ​​Цезаря\n",
        "\n",
        "Напишите программу на Python, которая реализует шифр Цезаря, простой метод шифрования, который заменяет каждую букву буквой на фиксированное количество позиций вниз по алфавиту. Программа должна запрашивать у пользователя сообщение и значение сдвига, а затем шифровать и расшифровывать сообщение.\n",
        "Подробнее о шифре Цезаря: [link](https://habr.com/ru/articles/534058/)\n",
        "\n",
        "Этап 1:\n",
        "\n",
        "Напишите код для реализации данной задачи\n",
        "\n",
        "Этап 2:\n",
        "\n",
        "Оформите код в виде нескольких функций:\n",
        "\n",
        "* Зашифровывает сообщение\n",
        "* Расшифровывает сообщение"
      ],
      "metadata": {
        "id": "-SIWYSq2QKBh"
      }
    },
    {
      "cell_type": "code",
      "source": [
        "alphabet = ['а', 'б', 'в', 'г', 'д', 'е', 'ё', 'ж', 'з', 'и', 'й', 'к', 'л', 'м', 'н', 'о', 'п', 'р', 'с', 'т', 'у', 'ф', 'х', 'ц', 'ч', 'ш', 'щ', 'ъ', 'ы', 'ь', 'э', 'ю', 'я']\n",
        "alphabet2 = ['А', 'Б', 'В', 'Г', 'Д', 'Е', 'Ё', 'Ж', 'З', 'И', 'Й', 'К', 'Л', 'М', 'Н', 'О', 'П', 'Р', 'С', 'Т', 'У', 'Ф', 'Х', 'Ц', 'Ч', 'Ш', 'Щ', 'Ъ', 'Ы', 'Ь', 'Э', 'Ю', 'Я']\n",
        "answer = int(input('Выдерите операцию: 1-Зашифровать | 2-Расшифровать '))\n",
        "word = input('Введите сообщение: ')\n",
        "n = int(input('Введите шаг: '))\n",
        "result = ''\n",
        "if answer == 1:\n",
        "  for i in range(0,len(word)):\n",
        "    for j in range(0,len(alphabet)):\n",
        "      if word[i] == alphabet[j]:\n",
        "        result += alphabet[(j+n)%33]\n",
        "      if word[i] == alphabet2[j]:\n",
        "        result += alphabet2[(j+n)%33]\n",
        "elif answer == 2:\n",
        "  for i in range(0,len(word)):\n",
        "    for j in range(0,len(alphabet)):\n",
        "      if word[i] == alphabet[j]:\n",
        "        result += alphabet[j-n]\n",
        "      if word[i] == alphabet2[j]:\n",
        "        result += alphabet2[j-n]\n",
        "else:\n",
        "  print('ERROR')\n",
        "print('Результат:', result)"
      ],
      "metadata": {
        "id": "anThYirsQe6N",
        "colab": {
          "base_uri": "https://localhost:8080/"
        },
        "outputId": "dd924797-8726-415c-a753-57918366dcf3"
      },
      "execution_count": null,
      "outputs": [
        {
          "output_type": "stream",
          "name": "stdout",
          "text": [
            "Выдерите операцию: 1-Зашифровать | 2-Расшифровать 1\n",
            "Введите сообщение: ПрИвЕт\n",
            "Введите шаг: 2\n",
            "Результат: СтКдЖф\n"
          ]
        }
      ]
    },
    {
      "cell_type": "markdown",
      "source": [
        "**Задача 7**\n",
        "\n",
        "Задача: «Банковская система»\n",
        "\n",
        "Создайте программу Python, которая имитирует базовую банковскую систему. Система должна иметь следующие функции:\n",
        "\n",
        "Требования\n",
        "*   Система должна позволять клиентам создавать счета и хранить их балансы.\n",
        "*   Система должна позволять клиентам вносить и снимать деньги со своих счетов.\n",
        "*   Система должна позволять клиентам проверять свой текущий баланс.\n",
        "*   Система должна позволять клиентам переводить деньги между счетами.\n",
        "*   Система должна отслеживать транзакции (депозиты, снятия и переводы) и иметь возможность печатать детали транзакций.\n",
        "\n",
        "\n",
        "Задачи\n",
        "1. Реализуйте банковскую систему, используя только базовые конструкции Python, такие как def, lists, if, elif и else, без классов или словарей.\n",
        "Определите функции для создания счетов, внесения и снятия денег, получения балансов счетов, перевода денег между счетами, а также создания и печати транзакций.\n",
        "2. Напишите основную функцию, которая демонстрирует использование банковской системы путем создания счетов, внесения и снятия денег и перевода денег между счетами.\n",
        "3. Бонусное задание\n",
        "Реализуйте способ хранения и печати истории транзакций для каждого счета.\n",
        "\n",
        "Ограничения\n",
        "Не используйте классы или словари.\n",
        "Используйте только базовые конструкции Python, такие как def, lists, if, elif и else.\n"
      ],
      "metadata": {
        "id": "avFZRRXrQz9O"
      }
    },
    {
      "cell_type": "code",
      "source": [],
      "metadata": {
        "id": "dWEW10zIRwjs"
      },
      "execution_count": null,
      "outputs": []
    }
  ]
}