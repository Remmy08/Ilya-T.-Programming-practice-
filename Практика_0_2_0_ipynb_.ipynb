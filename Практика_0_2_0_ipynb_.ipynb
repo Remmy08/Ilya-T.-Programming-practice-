{
  "nbformat": 4,
  "nbformat_minor": 0,
  "metadata": {
    "colab": {
      "provenance": []
    },
    "kernelspec": {
      "name": "python3",
      "display_name": "Python 3"
    },
    "language_info": {
      "name": "python"
    }
  },
  "cells": [
    {
      "cell_type": "markdown",
      "source": [
        "Напишите свое ФИО:"
      ],
      "metadata": {
        "id": "0PnTh-ajEoEb"
      }
    },
    {
      "cell_type": "code",
      "source": [
        "print('Привет Тыщенко Илья!')"
      ],
      "metadata": {
        "id": "QyMVPjzWErHw",
        "colab": {
          "base_uri": "https://localhost:8080/"
        },
        "outputId": "1c925629-1eb9-4442-b94d-deca0d0a6149"
      },
      "execution_count": null,
      "outputs": [
        {
          "output_type": "stream",
          "name": "stdout",
          "text": [
            "Привет студентам!\n"
          ]
        }
      ]
    },
    {
      "cell_type": "markdown",
      "source": [
        "# Основы"
      ],
      "metadata": {
        "id": "HPwKiIA4EKO-"
      }
    },
    {
      "cell_type": "markdown",
      "source": [
        "Задание 1: Напиши программу, выводящую на экран сообщение \"Привет, мир!\""
      ],
      "metadata": {
        "id": "8po5IidFERZ8"
      }
    },
    {
      "cell_type": "code",
      "source": [
        "print('Привет, мир!')"
      ],
      "metadata": {
        "colab": {
          "base_uri": "https://localhost:8080/"
        },
        "outputId": "a242f5b4-8927-4780-8fde-be37d1010e22",
        "id": "OgcL2fdNRQZe"
      },
      "execution_count": null,
      "outputs": [
        {
          "output_type": "stream",
          "name": "stdout",
          "text": [
            "Привет, мир!\n"
          ]
        }
      ]
    },
    {
      "cell_type": "markdown",
      "source": [
        "Задание 2: Напиши программу которая запрашивает имя пользователя и выводит сообщение:\n",
        "\n",
        "`Привет, <Имя пользователя>`"
      ],
      "metadata": {
        "id": "pUQIIo94EYLg"
      }
    },
    {
      "cell_type": "code",
      "source": [
        "name = input('Введите имя:')\n",
        "print('Привет,',name)"
      ],
      "metadata": {
        "id": "nNwHKmAnEinH",
        "outputId": "db01c415-4c1e-463b-8d51-5670d30edc99",
        "colab": {
          "base_uri": "https://localhost:8080/",
          "height": 304
        }
      },
      "execution_count": null,
      "outputs": [
        {
          "output_type": "error",
          "ename": "KeyboardInterrupt",
          "evalue": "Interrupted by user",
          "traceback": [
            "\u001b[0;31m---------------------------------------------------------------------------\u001b[0m",
            "\u001b[0;31mKeyboardInterrupt\u001b[0m                         Traceback (most recent call last)",
            "\u001b[0;32m<ipython-input-89-67689c299ebe>\u001b[0m in \u001b[0;36m<cell line: 1>\u001b[0;34m()\u001b[0m\n\u001b[0;32m----> 1\u001b[0;31m \u001b[0mname\u001b[0m \u001b[0;34m=\u001b[0m \u001b[0minput\u001b[0m\u001b[0;34m(\u001b[0m\u001b[0;34m'Введите имя:'\u001b[0m\u001b[0;34m)\u001b[0m\u001b[0;34m\u001b[0m\u001b[0;34m\u001b[0m\u001b[0m\n\u001b[0m\u001b[1;32m      2\u001b[0m \u001b[0mprint\u001b[0m\u001b[0;34m(\u001b[0m\u001b[0;34m'Привет,'\u001b[0m\u001b[0;34m,\u001b[0m\u001b[0mname\u001b[0m\u001b[0;34m)\u001b[0m\u001b[0;34m\u001b[0m\u001b[0;34m\u001b[0m\u001b[0m\n",
            "\u001b[0;32m/usr/local/lib/python3.10/dist-packages/ipykernel/kernelbase.py\u001b[0m in \u001b[0;36mraw_input\u001b[0;34m(self, prompt)\u001b[0m\n\u001b[1;32m    849\u001b[0m                 \u001b[0;34m\"raw_input was called, but this frontend does not support input requests.\"\u001b[0m\u001b[0;34m\u001b[0m\u001b[0;34m\u001b[0m\u001b[0m\n\u001b[1;32m    850\u001b[0m             )\n\u001b[0;32m--> 851\u001b[0;31m         return self._input_request(str(prompt),\n\u001b[0m\u001b[1;32m    852\u001b[0m             \u001b[0mself\u001b[0m\u001b[0;34m.\u001b[0m\u001b[0m_parent_ident\u001b[0m\u001b[0;34m,\u001b[0m\u001b[0;34m\u001b[0m\u001b[0;34m\u001b[0m\u001b[0m\n\u001b[1;32m    853\u001b[0m             \u001b[0mself\u001b[0m\u001b[0;34m.\u001b[0m\u001b[0m_parent_header\u001b[0m\u001b[0;34m,\u001b[0m\u001b[0;34m\u001b[0m\u001b[0;34m\u001b[0m\u001b[0m\n",
            "\u001b[0;32m/usr/local/lib/python3.10/dist-packages/ipykernel/kernelbase.py\u001b[0m in \u001b[0;36m_input_request\u001b[0;34m(self, prompt, ident, parent, password)\u001b[0m\n\u001b[1;32m    893\u001b[0m             \u001b[0;32mexcept\u001b[0m \u001b[0mKeyboardInterrupt\u001b[0m\u001b[0;34m:\u001b[0m\u001b[0;34m\u001b[0m\u001b[0;34m\u001b[0m\u001b[0m\n\u001b[1;32m    894\u001b[0m                 \u001b[0;31m# re-raise KeyboardInterrupt, to truncate traceback\u001b[0m\u001b[0;34m\u001b[0m\u001b[0;34m\u001b[0m\u001b[0m\n\u001b[0;32m--> 895\u001b[0;31m                 \u001b[0;32mraise\u001b[0m \u001b[0mKeyboardInterrupt\u001b[0m\u001b[0;34m(\u001b[0m\u001b[0;34m\"Interrupted by user\"\u001b[0m\u001b[0;34m)\u001b[0m \u001b[0;32mfrom\u001b[0m \u001b[0;32mNone\u001b[0m\u001b[0;34m\u001b[0m\u001b[0;34m\u001b[0m\u001b[0m\n\u001b[0m\u001b[1;32m    896\u001b[0m             \u001b[0;32mexcept\u001b[0m \u001b[0mException\u001b[0m \u001b[0;32mas\u001b[0m \u001b[0me\u001b[0m\u001b[0;34m:\u001b[0m\u001b[0;34m\u001b[0m\u001b[0;34m\u001b[0m\u001b[0m\n\u001b[1;32m    897\u001b[0m                 \u001b[0mself\u001b[0m\u001b[0;34m.\u001b[0m\u001b[0mlog\u001b[0m\u001b[0;34m.\u001b[0m\u001b[0mwarning\u001b[0m\u001b[0;34m(\u001b[0m\u001b[0;34m\"Invalid Message:\"\u001b[0m\u001b[0;34m,\u001b[0m \u001b[0mexc_info\u001b[0m\u001b[0;34m=\u001b[0m\u001b[0;32mTrue\u001b[0m\u001b[0;34m)\u001b[0m\u001b[0;34m\u001b[0m\u001b[0;34m\u001b[0m\u001b[0m\n",
            "\u001b[0;31mKeyboardInterrupt\u001b[0m: Interrupted by user"
          ]
        }
      ]
    },
    {
      "cell_type": "markdown",
      "source": [
        "Задание 3: Напиши программу определяющую является ли число четным или нечетным:\n",
        "\n",
        "Пример:\n",
        "\n",
        "`Введите число:` 2\n",
        "\n",
        "`Ваше число четное!`"
      ],
      "metadata": {
        "id": "SAUm9W6_Etkh"
      }
    },
    {
      "cell_type": "code",
      "source": [
        "number = int(input('Введите число:'))\n",
        "if number % 2 == 0:\n",
        "  print('Ваше число четное!')\n",
        "else:\n",
        "  print('Ваше число нечетное!')"
      ],
      "metadata": {
        "id": "LXv7AIN1E4on"
      },
      "execution_count": null,
      "outputs": []
    },
    {
      "cell_type": "markdown",
      "source": [
        "Задание 4: Напишите программу которая запрашивает длинну и ширину прямоугольника и выводит его площадь:\n",
        "\n",
        "\n",
        "\n",
        "`Введите длинну прямоугольника:`\n",
        "\n",
        "`Введите ширину прямоугольника:`\n",
        "\n",
        "`Площадь прямоугольника: `\n",
        "\n"
      ],
      "metadata": {
        "id": "OW1Y5KyUE_n9"
      }
    },
    {
      "cell_type": "code",
      "source": [
        "a = int(input('Введите длинну прямоугольника:'))\n",
        "b = int(input('Введите ширину прямоугольника:'))\n",
        "print('Площадь прямоугольника:', a*b)"
      ],
      "metadata": {
        "id": "Bu5iawknFbXP"
      },
      "execution_count": null,
      "outputs": []
    },
    {
      "cell_type": "markdown",
      "source": [
        "Задание 5: Напишите программу, которая будет вычислять среднее арифметическое введенных чисел"
      ],
      "metadata": {
        "id": "xj8_QNLsFfLw"
      }
    },
    {
      "cell_type": "code",
      "source": [
        "len = int(input('Введите кол-во чисел:'))\n",
        "sum = 0\n",
        "for i in range(len):\n",
        "  sum += int(input('Введите число:'))\n",
        "print('Среднее арифметическое введенных чисел:', sum / len)"
      ],
      "metadata": {
        "id": "omumX59JFoKw"
      },
      "execution_count": null,
      "outputs": []
    },
    {
      "cell_type": "markdown",
      "source": [
        "Задание 6: Напишите программу, которая бы определяла является ли год високосным\n",
        "Пример:\n",
        "\n",
        "`Введите год:` 2024\n",
        "\n",
        "`Ваш год високосный!`"
      ],
      "metadata": {
        "id": "qHXcBMUJcP91"
      }
    },
    {
      "cell_type": "code",
      "source": [
        "number = int(input('Введите год:'))\n",
        "if number % 4 == 0:\n",
        "  print('Ваш год високосный!')\n",
        "else:\n",
        "  print('Ваш год не високосный!')"
      ],
      "metadata": {
        "id": "5zIg47mwcKKr"
      },
      "execution_count": null,
      "outputs": []
    },
    {
      "cell_type": "markdown",
      "source": [
        "Задание 7: Необходимо создать простой калькулятор, который позволяет пользователю выбрать одну из четырёх операций (+, -, *, /), ввести два числа и получить результат выполнения операции.\n",
        "\n",
        "`Введите операцию:`\n",
        "\n",
        "`Введите первое число:`\n",
        "\n",
        "`Введите второе число:`\n",
        "\n",
        "`Результат выполнения: `\n"
      ],
      "metadata": {
        "id": "CYaQ69kucdhj"
      }
    },
    {
      "cell_type": "code",
      "source": [
        "operation = input('Введите операцию:')\n",
        "number_one = int(input('Введите первое число:'))\n",
        "number_two = int(input('Введите второе число:'))\n",
        "if operation == '+':\n",
        "  print('Результат выполнения:', number_one+number_two)\n",
        "elif operation == '-':\n",
        "  print('Результат выполнения:', number_one-number_two)\n",
        "elif operation == '*':\n",
        "  print('Результат выполнения:', number_one*number_two)\n",
        "elif operation == '/':\n",
        "  print('Результат выполнения:', number_one/number_two)\n",
        "else:\n",
        "  print('ERROR!')"
      ],
      "metadata": {
        "id": "wR5UyEf7ciIE"
      },
      "execution_count": null,
      "outputs": []
    },
    {
      "cell_type": "markdown",
      "source": [
        "# Практика 0.2.1"
      ],
      "metadata": {
        "id": "XWBhGpdEFo-U"
      }
    },
    {
      "cell_type": "markdown",
      "source": [
        "**Шахматы**\n",
        "\n",
        "Даны стартовые и конечные координаты, а также фигура\n",
        "\n",
        "Необходимо определить, может ли заданная фигура так ходить?"
      ],
      "metadata": {
        "id": "9Lw9odpqFwtn"
      }
    },
    {
      "cell_type": "code",
      "source": [
        "position_start1 = str(input('Введите начальную букву:'))\n",
        "position_start2 = int(input('Введите начальную цифру:'))\n",
        "position_finish1 = str(input('Введите конечную букву:'))\n",
        "position_finish2 = int(input('Введите конечную цифру:'))\n",
        "if position_start1 == 'a': position_start1 = 1\n",
        "elif position_start1 == 'b': position_start1 = 2\n",
        "elif position_start1 == 'c': position_start1 = 3\n",
        "elif position_start1 == 'd': position_start1 = 4\n",
        "elif position_start1 == 'e': position_start1 = 5\n",
        "elif position_start1 == 'f': position_start1 = 6\n",
        "elif position_start1 == 'g': position_start1 = 7\n",
        "elif position_start1 == 'h': position_start1 = 8\n",
        "else:  print('Неверная буква!')\n",
        "if position_finish1 == 'a': position_finish1 = 1\n",
        "elif position_finish1 == 'b': position_finish1 = 2\n",
        "elif position_finish1 == 'c': position_finish1 = 3\n",
        "elif position_finish1 == 'd': position_finish1 = 4\n",
        "elif position_finish1 == 'e': position_finish1 = 5\n",
        "elif position_finish1 == 'f': position_finish1 = 6\n",
        "elif position_finish1 == 'g': position_finish1 = 7\n",
        "elif position_finish1 == 'h': position_finish1 = 8\n",
        "else:  print('Неверная буква!')\n",
        "print('Выберите фигуру: 1 - Пешка; 2 - Ладья; 3 - Конь; 4 - Слон; 5 - Ферзь; 6 - Король.')\n",
        "figure = int(input())\n",
        "if figure == 1:\n",
        "    if position_start1 == position_finish1 and position_start2 == position_finish2 + 1:\n",
        "        print('Может')\n",
        "    else:\n",
        "        print('Не может')\n",
        "elif figure == 2:\n",
        "    if position_start1 == position_finish1 or position_start2 == position_finish2:\n",
        "        print('Может')\n",
        "    else:\n",
        "        print('Не может')\n",
        "elif figure == 3:\n",
        "    if (position_start1 - 1 == position_finish1 or position_start1 + 1 == position_finish1) and (position_start2 - 2 == position_finish2 or position_start2 + 2 == position_finish2):\n",
        "      print('Может')\n",
        "    elif (position_start1 - 2 == position_finish1 or position_start1 + 2 == position_finish1) and (position_start2 - 1 == position_finish2 or position_start2 + 1 == position_finish2):\n",
        "      print('Может')\n",
        "    else:\n",
        "      print('Не может')\n",
        "elif figure == 4:\n",
        "    if abs(position_start1 - position_finish1) == abs(position_start2 - position_finish2):\n",
        "      print('Может')\n",
        "    else:\n",
        "      print('Не может')\n",
        "elif figure == 5:\n",
        "    if abs(position_start1-position_finish1) <= 1 and abs(position_start2-position_finish2) <= 1 or position_start1 == position_finish1 or position_start2 == position_finish2:\n",
        "      print('Может')\n",
        "    else:\n",
        "      print('Не может')\n",
        "elif figure == 6:\n",
        "    if -1 <= position_start1-position_finish1 <= 1 and -1 <= position_start2-position_finish2 <= 1:\n",
        "      print('Может')\n",
        "    else:\n",
        "      print('Не может')\n",
        "else:\n",
        "    print('Ошибка выбора фигуры!')\n"
      ],
      "metadata": {
        "id": "9IICo0p3F07P",
        "colab": {
          "base_uri": "https://localhost:8080/"
        },
        "outputId": "f9445161-3ead-4891-9efa-aeea8e1e9a93"
      },
      "execution_count": null,
      "outputs": [
        {
          "output_type": "stream",
          "name": "stdout",
          "text": [
            "Введите начальную букву:a\n",
            "Введите начальную цифру:5\n",
            "Введите конечную букву:h\n",
            "Введите конечную цифру:5\n",
            "Выберите фигуру: 1 - Пешка; 2 - Ладья; 3 - Конь; 4 - Слон; 5 - Ферзь; 6 - Король.\n",
            "2\n",
            "Может\n"
          ]
        }
      ]
    },
    {
      "cell_type": "markdown",
      "source": [
        "# Практика 0.2.2\n",
        "\n",
        "**Цифра на определенном месте:**\n",
        "\n",
        "Последовательно записан натуральный ряд чисел.\n",
        "\n",
        "Какая цифра стоит в N позиции"
      ],
      "metadata": {
        "id": "wI5bLNpHGDmO"
      }
    },
    {
      "cell_type": "code",
      "source": [
        "n = int(input())\n",
        "list = ''\n",
        "for i in range(1, n+1):\n",
        "  list += str(i)\n",
        "print(list[n-1])"
      ],
      "metadata": {
        "id": "XLm_zFGzGNsU",
        "colab": {
          "base_uri": "https://localhost:8080/"
        },
        "outputId": "67989ac3-bb49-44b4-d226-a075027a6db6"
      },
      "execution_count": null,
      "outputs": [
        {
          "output_type": "stream",
          "name": "stdout",
          "text": [
            "10000000\n",
            "7\n"
          ]
        }
      ]
    },
    {
      "cell_type": "markdown",
      "source": [
        "# Практика 0.2.3\n",
        "\n",
        "\n",
        "Возьмите код из задания 7 и улучшите ваш калькулятор следующим образом:\n",
        "\n",
        "Пользователь вводит строку вида:\n",
        "\n",
        "(5+5)*5 - данная строка содержит в себе математическое выражение, а также скобки\n",
        "\n",
        "Ваша программа должная понять что за математическое выражение записано, проверить верно ли оно записано (пример неверного заполнения: (5(+)5)*5, а также расчитать его в соотвествии с правилами математики"
      ],
      "metadata": {
        "id": "dpxTJv-scnMy"
      }
    },
    {
      "cell_type": "code",
      "source": [],
      "metadata": {
        "id": "18gOluyHcmmf"
      },
      "execution_count": null,
      "outputs": []
    }
  ]
}