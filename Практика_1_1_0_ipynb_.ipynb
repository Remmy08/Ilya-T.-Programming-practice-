{
  "nbformat": 4,
  "nbformat_minor": 0,
  "metadata": {
    "colab": {
      "provenance": []
    },
    "kernelspec": {
      "name": "python3",
      "display_name": "Python 3"
    },
    "language_info": {
      "name": "python"
    }
  },
  "cells": [
    {
      "cell_type": "markdown",
      "source": [
        "**ФИО:**"
      ],
      "metadata": {
        "id": "GEsFKJm-ABFp"
      }
    },
    {
      "cell_type": "code",
      "execution_count": null,
      "metadata": {
        "id": "wZMLYG_G_-19",
        "colab": {
          "base_uri": "https://localhost:8080/"
        },
        "outputId": "07cd6ffc-3595-4361-d27c-5a250268b053"
      },
      "outputs": [
        {
          "output_type": "stream",
          "name": "stdout",
          "text": [
            "Тыщенко Илья\n"
          ]
        }
      ],
      "source": [
        "print('Тыщенко Илья')"
      ]
    },
    {
      "cell_type": "markdown",
      "source": [
        "# Задание 1"
      ],
      "metadata": {
        "id": "H4DrYnJjADuZ"
      }
    },
    {
      "cell_type": "markdown",
      "source": [
        "**Описание:** Создайте иерархию классов для разных типов сотрудников в компании. Реализуйте родительский класс Employee и дочерние классы Manager и Developer. Каждый класс должен иметь метод для расчета зарплаты на основе различных критериев класса.\n",
        "\n",
        "\n",
        "Отрабатываемый принцип: Наследование\n",
        "\n"
      ],
      "metadata": {
        "id": "C17FWep-AF4a"
      }
    },
    {
      "cell_type": "code",
      "source": [
        "class Employee:\n",
        "  def __init__(self, base_salary):\n",
        "    self.base_salary = base_salary\n",
        "  def calculate_salary(self):\n",
        "    return self.base_salary\n",
        "\n",
        "class Manager(Employee):\n",
        "  def __init__(self, base_salary, working_days):\n",
        "    super().__init__(base_salary)\n",
        "    self.working_days = working_days\n",
        "\n",
        "  def calculate_salary(self):\n",
        "    return (self.base_salary / 30) * self.working_days\n",
        "\n",
        "class Developer(Employee):\n",
        "  def __init__(self, hourly_salary, working_hours):\n",
        "    super().__init__(base_salary = 0)\n",
        "    self.working_hours = working_hours\n",
        "    self.hourly_salary = hourly_salary\n",
        "\n",
        "  def calculate_salary(self):\n",
        "    return self.hourly_salary * self.working_hours\n",
        "\n",
        "\n",
        "print(Manager(45000, 26).calculate_salary())\n",
        "print(Developer(300, 89).calculate_salary())"
      ],
      "metadata": {
        "id": "aexGXzqCAFH7",
        "colab": {
          "base_uri": "https://localhost:8080/"
        },
        "outputId": "006dd064-74f6-45c3-dfa5-e0a8a404e34f"
      },
      "execution_count": null,
      "outputs": [
        {
          "output_type": "stream",
          "name": "stdout",
          "text": [
            "39000.0\n",
            "26700\n"
          ]
        }
      ]
    },
    {
      "cell_type": "markdown",
      "source": [
        "# Задание 2"
      ],
      "metadata": {
        "id": "ERAi0TG5BI6v"
      }
    },
    {
      "cell_type": "markdown",
      "source": [
        "**Описание:** Создайте иерархию классов для различных типов транспортных средств (Необходим один родительский класс и 3 дочерних). Реализуйте метод, который позволяет каждому транспортному средству возвращать собственное описание (Метод в каждом классе должен иметь одинаковое название). Продемонстрируйте вызов данного метода для каждого транспортного средства.\n",
        "\n",
        "\n",
        "Отрабатываемый принцип: Полиморфизм"
      ],
      "metadata": {
        "id": "sJ3k7ZcgBK87"
      }
    },
    {
      "cell_type": "code",
      "source": [
        "class Vehicle:\n",
        "  def __init__(self, name):\n",
        "    self.name = name\n",
        "\n",
        "  def description(self):\n",
        "    return f\"{self.name} - устройство, предназначенное для перевозки по дорогам людей, грузов или оборудования, установленного на нем.\"\n",
        "\n",
        "class Car(Vehicle):\n",
        "  def __init__(self, name):\n",
        "    super().__init__(name)\n",
        "\n",
        "  def description(self):\n",
        "    return f\"{self.name} - моторное дорожное и вне дорожное транспортное средство, используемое для перевозки людей или грузов.\"\n",
        "\n",
        "class Bike(Vehicle):\n",
        "  def __init__(self, name):\n",
        "    super().__init__(name)\n",
        "\n",
        "  def description(self):\n",
        "    return f\"{self.name} - колёсное транспортное средство, приводимое в движение мускульной силой человека.\"\n",
        "\n",
        "class Motorbike(Vehicle):\n",
        "  def __init__(self, name):\n",
        "    super().__init__(name)\n",
        "\n",
        "  def description(self):\n",
        "    return f\"{self.name} -  двухколёсное транспортное средство с двигателем, главными отличительными чертами которого являются вертикальная посадка водителя, наличие боковых ножных упоров и прямое управление передним поворотным колесом\"\n",
        "\n",
        "print(Car(name='Автомобиль').description())\n",
        "print(Bike(name='Велосипед').description())\n",
        "print(Motorbike(name='Мотоцикл').description())\n"
      ],
      "metadata": {
        "id": "WOFOZQmDBKf4",
        "colab": {
          "base_uri": "https://localhost:8080/"
        },
        "outputId": "d3923d35-456d-405a-a3d0-5fa761b93ecf"
      },
      "execution_count": null,
      "outputs": [
        {
          "output_type": "stream",
          "name": "stdout",
          "text": [
            "Автомобиль - моторное дорожное и вне дорожное транспортное средство, используемое для перевозки людей или грузов.\n",
            "Велосипед - колёсное транспортное средство, приводимое в движение мускульной силой человека.\n",
            "Мотоцикл -  двухколёсное транспортное средство с двигателем, главными отличительными чертами которого являются вертикальная посадка водителя, наличие боковых ножных упоров и прямое управление передним поворотным колесом\n"
          ]
        }
      ]
    },
    {
      "cell_type": "markdown",
      "source": [
        "# Задание 3"
      ],
      "metadata": {
        "id": "7E_SJXMJBvD4"
      }
    },
    {
      "cell_type": "markdown",
      "source": [
        "Онлайн-магазин:\n",
        "- Создайте модель для онлайн-магазина с классами Product, Order, Customer, и ShoppingCart.\n",
        "- Product включает информацию о цене, наличии на складе и категории товара.\n",
        "Order обрабатывает процесс покупки, включая расчет цены с учетом скидок и налогов.\n",
        "- Customer управляет информацией о пользователе и его истории заказов.\n",
        "- ShoppingCart позволяет добавлять, удалять и обновлять количество товаров перед оформлением заказа.\n"
      ],
      "metadata": {
        "id": "dd1mwKj_BxHa"
      }
    },
    {
      "cell_type": "code",
      "source": [
        "class Product:\n",
        "    def __init__(self, name, price, stock, category):\n",
        "        self.name = name\n",
        "        self.price = price\n",
        "        self.stock = stock\n",
        "        self.category = category\n",
        "\n",
        "class ShoppingCart:\n",
        "    def __init__(self):\n",
        "        self.items = {}\n",
        "\n",
        "    def add_product(self, product, quantity):\n",
        "        if product.name not in self.items:\n",
        "            self.items[product.name] = {\"product\": product, \"quantity\": 0}\n",
        "        self.items[product.name][\"quantity\"] += quantity\n",
        "\n",
        "    def remove_product(self, product_name):\n",
        "        if product_name in self.items:\n",
        "            del self.items[product_name]\n",
        "\n",
        "    def calculate_total(self):\n",
        "        total = 0\n",
        "        for item in self.items.values():\n",
        "            total += item[\"product\"].price * item[\"quantity\"]\n",
        "        return total\n",
        "\n",
        "    def show_cart(self):\n",
        "        print(\"Корзина:\")\n",
        "        for name, details in self.items.items():\n",
        "            print(f\"{name} x {details['quantity']}\")\n",
        "        print(f\"Итого: {self.calculate_total()}\")\n",
        "\n",
        "class Order:\n",
        "    def __init__(self, customer, cart):\n",
        "        self.customer = customer\n",
        "        self.cart = cart\n",
        "        self.total = cart.calculate_total()\n",
        "\n",
        "    def show_order(self):\n",
        "        print(f\"Заказ для {self.customer.name}:\")\n",
        "        for name, details in self.cart.items.items():\n",
        "            print(f\"{name} x {details['quantity']}\")\n",
        "        print(f\"Итого к оплате: {self.total}\")\n",
        "\n",
        "class Customer:\n",
        "    def __init__(self, name):\n",
        "        self.name = name\n",
        "        self.orders = []\n",
        "\n",
        "    def add_order(self, order):\n",
        "        self.orders.append(order)\n",
        "\n",
        "products = [\n",
        "    Product(\"Ноутбук\", 30000, 10, \"Электроника\"),\n",
        "    Product(\"Телефон\", 15000, 20, \"Электроника\"),\n",
        "    Product(\"Чехол\", 500, 30, \"Аксессуары\")\n",
        "]\n",
        "\n",
        "name = input(\"Введите имя: \")\n",
        "customer = Customer(name)\n",
        "cart = ShoppingCart()\n",
        "\n",
        "while True:\n",
        "    print(\"\\n1. Посмотреть товары\")\n",
        "    print(\"2. Добавить товар в корзину\")\n",
        "    print(\"3. Удалить товар из корзины\")\n",
        "    print(\"4. Посмотреть корзину\")\n",
        "    print(\"5. Оформить заказ\")\n",
        "    print(\"6. Выход\")\n",
        "\n",
        "    choice = input(\"Ваш выбор: \")\n",
        "\n",
        "    if choice == \"1\":\n",
        "        print(\"Список товаров:\")\n",
        "        for i, product in enumerate(products, 1):\n",
        "            print(f\"{i}. {product.name} - {product.price} руб. (в наличии: {product.stock})\")\n",
        "\n",
        "    elif choice == \"2\":\n",
        "        product_number = int(input(\"Выберите номер товара: \"))\n",
        "        if 1 <= product_number <= len(products):\n",
        "            product = products[product_number - 1]\n",
        "            quantity = int(input(\"Выберите кол-во товара: \"))\n",
        "            if product.stock >= quantity:\n",
        "                cart.add_product(product, quantity)\n",
        "                product.stock -= quantity\n",
        "                print(\"Товар добавлен в корзину!\")\n",
        "            else:\n",
        "                print(\"Товара недостаточно на складе.\")\n",
        "        else:\n",
        "            print(\"Неверный номер товара.\")\n",
        "\n",
        "    elif choice == \"3\":\n",
        "        product_name = input(\"Введите название товара для удаления: \")\n",
        "        cart.remove_product(product_name)\n",
        "        print(\"Товар удалён.\")\n",
        "\n",
        "    elif choice == \"4\":\n",
        "        cart.show_cart()\n",
        "\n",
        "    elif choice == \"5\":\n",
        "        if cart.items:\n",
        "            order = Order(customer, cart)\n",
        "            customer.add_order(order)\n",
        "            order.show_order()\n",
        "            print(\"Заказ оформлен!\")\n",
        "            break\n",
        "        else:\n",
        "            print(\"Корзина пуста, добавьте товары перед оформлением заказа.\")\n",
        "\n",
        "    elif choice == \"6\":\n",
        "        break\n",
        "\n",
        "    else:\n",
        "        print(\"Неверный выбор.\")\n"
      ],
      "metadata": {
        "id": "wkCcv_K-Bwdv"
      },
      "execution_count": null,
      "outputs": []
    },
    {
      "cell_type": "markdown",
      "source": [
        "# Задание 4"
      ],
      "metadata": {
        "id": "ih7iPlYfB7lL"
      }
    },
    {
      "cell_type": "markdown",
      "source": [
        "Симулятор космического корабля:\n",
        "- Создайте симулятор управления космическим кораблем с классами SpaceShip, CrewMember, и Mission.\n",
        "- SpaceShip имеет атрибуты для управления топливом, состоянием корпуса, и текущей скоростью.\n",
        "- CrewMember контролирует здоровье, навыки, и роли в команде (например, пилот, инженер).\n",
        "- Mission определяет цели, ресурсы, и возможные события (например, аварии, встречи с астероидами)."
      ],
      "metadata": {
        "id": "zLwqVCbpCBvc"
      }
    },
    {
      "cell_type": "code",
      "source": [
        "import random\n",
        "\n",
        "class SpaceShip:\n",
        "    def __init__(self, name):\n",
        "        self.name = name\n",
        "        self.fuel = 100\n",
        "        self.hull = 100\n",
        "        self.speed = 0\n",
        "\n",
        "    def fly(self, distance):\n",
        "        if self.fuel <= 0:\n",
        "            print(\"Топливо закончилось!\")\n",
        "            return\n",
        "        self.fuel -= distance * 0.1\n",
        "        self.speed += 10\n",
        "        self.hull = max(0, self.hull - distance * 0.05)\n",
        "        print(f\"Полет выполнен. Топливо: {self.fuel:.2f}%, Корпус: {self.hull}%, Скорость: {self.speed} км/с\")\n",
        "\n",
        "    def repair(self):\n",
        "        self.hull = 100\n",
        "        print(\"Корпус отремонтирован.\")\n",
        "\n",
        "    def refuel(self):\n",
        "        self.fuel = 100\n",
        "        print(\"Топливо заправлено.\")\n",
        "\n",
        "class CrewMember:\n",
        "    def __init__(self, name, role):\n",
        "        self.name = name\n",
        "        self.role = role\n",
        "        self.health = 100\n",
        "\n",
        "class Mission:\n",
        "    def __init__(self, goal):\n",
        "        self.goal = goal\n",
        "        self.events = [\"Встреча с астероидом\", \"Поломка двигателя\", \"Выброс радиации\"]\n",
        "\n",
        "    def start(self, spaceship, crew):\n",
        "        print(f\"Миссия: {self.goal}\")\n",
        "        for _ in range(3):\n",
        "            event = random.choice(self.events)\n",
        "            print(f\"Событие: {event}\")\n",
        "            if event == \"Встреча с астероидом\":\n",
        "                spaceship.hull -= 20\n",
        "            elif event == \"Поломка двигателя\":\n",
        "                spaceship.speed = 0\n",
        "            elif event == \"Выброс радиации\":\n",
        "                for member in crew:\n",
        "                    member.health -= 20\n",
        "        print(\"Миссия завершена.\")\n",
        "\n",
        "ship = SpaceShip(\"Звездный рыцарь\")\n",
        "crew = [CrewMember(\"Алексей\", \"Пилот\"), CrewMember(\"Марина\", \"Инженер\")]\n",
        "\n",
        "while True:\n",
        "    print(\"\\n1. Полет\\n2. Ремонт\\n3. Заправка\\n4. Миссия\\n5. Состояние\\n6. Выход\")\n",
        "    choice = input(\"Выберите действие: \")\n",
        "\n",
        "    if choice == \"1\":\n",
        "        distance = float(input(\"Введите расстояние (км): \"))\n",
        "        ship.fly(distance)\n",
        "    elif choice == \"2\":\n",
        "        ship.repair()\n",
        "    elif choice == \"3\":\n",
        "        ship.refuel()\n",
        "    elif choice == \"4\":\n",
        "        mission = Mission(\"Достичь Альфы Центавра\")\n",
        "        mission.start(ship, crew)\n",
        "    elif choice == \"5\":\n",
        "        print(f\"Топливо: {ship.fuel:.2f}%, Корпус: {ship.hull}%, Скорость: {ship.speed} км/с\")\n",
        "        for member in crew:\n",
        "            print(f\"{member.name} ({member.role}): Здоровье {member.health}%\")\n",
        "    elif choice == \"6\":\n",
        "        break\n",
        "    else:\n",
        "        print(\"Неверный выбор. Попробуйте снова.\")\n"
      ],
      "metadata": {
        "id": "4NyrOOy8B9ED"
      },
      "execution_count": null,
      "outputs": []
    },
    {
      "cell_type": "markdown",
      "source": [
        "# Дополнительно:"
      ],
      "metadata": {
        "id": "F7mRVsZjCXk0"
      }
    },
    {
      "cell_type": "markdown",
      "source": [
        "**Описание:** создайте консольную версию игры крестики-нолики, используя классы"
      ],
      "metadata": {
        "id": "X4Lkf86UCc1h"
      }
    },
    {
      "cell_type": "code",
      "source": [],
      "metadata": {
        "id": "x9OxpNsyCcUo"
      },
      "execution_count": null,
      "outputs": []
    }
  ]
}