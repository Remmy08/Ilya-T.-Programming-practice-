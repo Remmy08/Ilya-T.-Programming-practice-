{
  "cells": [
    {
      "cell_type": "markdown",
      "metadata": {
        "id": "8hJfL9b2l439"
      },
      "source": [
        "ФИО"
      ]
    },
    {
      "cell_type": "code",
      "execution_count": null,
      "metadata": {
        "id": "wRnqvYOkl6EX"
      },
      "outputs": [],
      "source": [
        "print('Тыщенко Илья')"
      ]
    },
    {
      "cell_type": "markdown",
      "metadata": {
        "id": "weOtPwPQmgpD"
      },
      "source": [
        "# Дисклеймер"
      ]
    },
    {
      "cell_type": "markdown",
      "metadata": {
        "id": "LznB3uscmjDa"
      },
      "source": [
        "В данной практике вам необходимо применить все ваши знания по темам:\n",
        "\n",
        "- Функции\n",
        "- Словари\n",
        "- Списки\n",
        "- Множества\n",
        "- Условные конструкции\n",
        "- Запросы\n",
        "\n",
        "и все что было изучено на прошлых практических занятиях\n",
        "\n",
        "В каждом задании кратко описаны функции, которые необходимо реализовать, детали реализации вы должны продумать самостоятельно.\n",
        "\n",
        "# **Дисклеймер 2**\n",
        "\n",
        "В данной практике также учитывается критерий: чистота и читаемость кода"
      ]
    },
    {
      "cell_type": "markdown",
      "metadata": {
        "id": "7nSJIqkTvC_C"
      },
      "source": [
        "# Задание 0"
      ]
    },
    {
      "cell_type": "markdown",
      "metadata": {
        "id": "exACjTiVvGUe"
      },
      "source": [
        "Создайте функцию по нахождению уникальных элементов из двух списков\n",
        "\n",
        "\n",
        "\n",
        "```\n",
        "a = [1, 2, 3, 4]\n",
        "b = [3, 4, 5, 6]\n",
        "```\n",
        "\n"
      ]
    },
    {
      "cell_type": "code",
      "execution_count": null,
      "metadata": {
        "colab": {
          "base_uri": "https://localhost:8080/"
        },
        "id": "V_31CrfGbH7V",
        "outputId": "fd86ee09-1e1c-4b9d-d55a-0688d4ae2550"
      },
      "outputs": [
        {
          "name": "stdout",
          "output_type": "stream",
          "text": [
            "Уникальные элементы: 1 2 5 6\n"
          ]
        }
      ],
      "source": [
        "def unique_elements(a,b):\n",
        "  a = set(a)\n",
        "  b = set(b)\n",
        "  unique_elements_list = (a.difference(b)).union(b.difference(a))\n",
        "  print('Уникальные элементы:', *unique_elements_list)\n",
        "\n",
        "a = [1, 2, 3, 4]\n",
        "b = [3, 4, 5, 6]\n",
        "\n",
        "unique_elements(a,b)"
      ]
    },
    {
      "cell_type": "markdown",
      "metadata": {
        "id": "SVWNlBALpCNo"
      },
      "source": [
        "# Задание 1"
      ]
    },
    {
      "cell_type": "markdown",
      "metadata": {
        "id": "RcKA-VEqpC7f"
      },
      "source": [
        "Симулятор виртуального питомца\n",
        "\n",
        "Цель: создать виртуальный симулятор домашних животных, в котором пользователи смогут заводить питомцев и ухаживать за ними.\n",
        "\n",
        "Требования:\n",
        "\n",
        "- Функция для усыновления питомца (имя, тип, возраст).\n",
        "- Функция для того, чтобы покормить питомца, поиграть с ним или уложить его спать.\n",
        "- Функция для отображения состояния питомца (голод, радость, энергия)."
      ]
    },
    {
      "cell_type": "code",
      "execution_count": null,
      "metadata": {
        "colab": {
          "background_save": true
        },
        "collapsed": true,
        "id": "hE7mF-HXpJLO"
      },
      "outputs": [],
      "source": [
        "import random\n",
        "\n",
        "def adoption_pet():\n",
        "  break_flag = False\n",
        "  while True:\n",
        "    print('''\n",
        "==============================================\n",
        "    Добро пожаловать в приют для питомцев!\n",
        "==============================================''')\n",
        "    print('Введите параметры питомца.')\n",
        "    pet_name = input('Имя: ')\n",
        "    pet_type = input('Тип: ')\n",
        "    pet_age = input('Возраст: ')\n",
        "    pets[pet_name] = { 'pet_type': pet_type, 'pet_age': pet_age, 'hunger': random.randint(20, 100), 'joy': random.randint(20, 100), 'energy': random.randint(20, 100),  }\n",
        "\n",
        "    print('''\n",
        "==============================================\n",
        "      Вы усыновили питомца. Поздравляем!\n",
        "==============================================\n",
        "  - Для усыновления ещё одного питомца введите \"ADD\"\n",
        "  - Для возвращения в главное меню введите \"BACK\"''')\n",
        "    while True:\n",
        "      command = input()\n",
        "      if command ==  \"ADD\":\n",
        "        break\n",
        "      elif command ==  \"BACK\":\n",
        "        break_flag = True\n",
        "        break\n",
        "      else:\n",
        "        print('Команда введена неверно! Попробуйте ещё раз!')\n",
        "    if break_flag:\n",
        "      break\n",
        "  return(pets)\n",
        "\n",
        "def pet_list(pets):\n",
        "  if not pets:\n",
        "    print('''\n",
        "===================================================\n",
        " У вас нет питомцев. Скорее отправляйтесь в приют!\n",
        "===================================================\n",
        "  - Для возвращения в главное меню введите \"BACK\" ''')\n",
        "    while True:\n",
        "      command = input()\n",
        "      if command == \"BACK\":\n",
        "        break\n",
        "      else:\n",
        "        print('Команда введена неверно! Попробуйте снова.')\n",
        "  else:\n",
        "    print('''\n",
        "===================================================\n",
        "   Ваши питомцы: ''')\n",
        "    for pet in pets.keys():\n",
        "      print('     -', pet)\n",
        "    print('''===================================================\n",
        "  - Для выбора питомца введите его имя.\n",
        "  - Для возвращения в главное меню введите \"BACK\"\n",
        "===================================================''')\n",
        "    while True:\n",
        "      command = input()\n",
        "      if command == \"BACK\":\n",
        "        break\n",
        "      elif command not in pets.keys():\n",
        "        print('Питомца с таким именем нет или имя питомца введено неверно. Попробуйте снова!')\n",
        "      elif command in pets.keys():\n",
        "        pet_info(pets,command)\n",
        "        break\n",
        "      else:\n",
        "        print('Команда введена неверно! Попробуйте снова.')\n",
        "  # return(pets,command)\n",
        "def pet_info(pets,name):\n",
        "  while True:\n",
        "    print('''===================================================\n",
        "                Информация о питомце\n",
        "===================================================''')\n",
        "    print('  Имя:', name)\n",
        "    print('  Тип:', pets[name]['pet_type'])\n",
        "    print('  Возраст:', pets[name]['pet_age'], 'лет')\n",
        "    print('Потребности:')\n",
        "    print('  Сытость:', pets[name]['hunger'], '%')\n",
        "    print('  Радость:', pets[name]['joy'], '%')\n",
        "    print('  Энергия:', pets[name]['energy'], '%')\n",
        "    print('''===================================================\n",
        "  1 - Покормить питомца\n",
        "  2 - Поиграть с питомцом\n",
        "  3 - Уложить питомца спать\n",
        "  4 - Вернуться в главное меню\n",
        "===================================================''')\n",
        "    command = int(input())\n",
        "    if command == 1:\n",
        "      print('Вы покормили '+ name + '! Сытость +50% Энергия -30%\\n')\n",
        "      pets[name]['hunger'] += 50\n",
        "      pets[name]['energy'] -= 30\n",
        "      if pets[name]['hunger'] > 100:\n",
        "        pets[name]['hunger'] = 100\n",
        "      if pets[name]['energy'] < 0:\n",
        "        pets[name]['energy'] = 0\n",
        "      next = input('Для продолжения нажмите \"ENTER\"')\n",
        "    elif command == 2:\n",
        "      print(name, 'очень понравилось играть с вами! Радость +50% Энергия -60% Сытость -40%\\n')\n",
        "      pets[name]['joy'] += 50\n",
        "      pets[name]['energy'] -= 60\n",
        "      pets[name]['hunger'] -= 40\n",
        "      if pets[name]['joy'] > 100:\n",
        "        pets[name]['joy'] = 100\n",
        "      if pets[name]['energy'] < 0:\n",
        "        pets[name]['energy'] = 0\n",
        "      if pets[name]['hunger'] < 0:\n",
        "        pets[name]['hunger'] = 0\n",
        "      next = input('Для продолжения нажмите \"ENTER\"')\n",
        "    elif command == 3:\n",
        "      print(name, 'хорошо поспал(-а) и чувствует себя отлично! Энергия 100% Сытость -40% Радость -20%\\n')\n",
        "      pets[name]['energy'] = 100\n",
        "      pets[name]['hunger'] -= 40\n",
        "      pets[name]['joy'] -= 50\n",
        "      if pets[name]['joy'] < 0:\n",
        "        pets[name]['joy'] = 0\n",
        "      if pets[name]['hunger'] < 0:\n",
        "        pets[name]['hunger'] = 0\n",
        "      next = input('Для продолжения нажмите \"ENTER\"')\n",
        "\n",
        "    elif command == 4:\n",
        "      break\n",
        "    else:\n",
        "      print('Команда введена неверно!')\n",
        "\n",
        "pets = {}\n",
        "\n",
        "while True:\n",
        "  print('''\n",
        "==============================================\n",
        "                ГЛАВНОЕ МЕНЮ\n",
        "==============================================\n",
        "  1 - Усыновить нового питомца\n",
        "  2 - Список моих питомцев\n",
        "  3 - Завершить работу\n",
        "==============================================''')\n",
        "  command = int(input('Выберите действие: '))\n",
        "  if command == 1:\n",
        "    adoption_pet()\n",
        "  elif command == 2:\n",
        "    pet_list(pets)\n",
        "  elif command == 3:\n",
        "    print('Пока! Пока!')\n",
        "    break\n",
        "  else:\n",
        "    print('Ошибка выбора действия!')\n",
        "\n",
        "    # Это всё выглядит очень страшно, но я использовал всё что знаю"
      ]
    },
    {
      "cell_type": "markdown",
      "metadata": {
        "id": "qZ7qFQnmssNd"
      },
      "source": [
        "# Задание 2"
      ]
    },
    {
      "cell_type": "markdown",
      "metadata": {
        "id": "UaccTe7ltNvg"
      },
      "source": [
        "Рыцарь и дракон\n",
        "\n",
        "Цель: создать небольшую игру, в которой вам необходимо играть за рыцаря и сразиться с драконом\n",
        "\n",
        "Требования:\n",
        "\n",
        "- Создание персонажа (имя, информация о доспехах, оружии, урон, здоровье)\n",
        "- Управление персонажем и мини сюжет\n",
        "- Создание дракона (Имя, информация о здоровье и уроне)\n",
        "- Боевая система (нанесение и получение урона, урон должен быть случайным в заданном диапазоне)\n",
        "- Реализовать бой между драконом и рыцарем"
      ]
    },
    {
      "cell_type": "code",
      "execution_count": null,
      "metadata": {
        "id": "LCcxp5Q0srjY"
      },
      "outputs": [],
      "source": [
        "import random\n",
        "import time\n",
        "import sys\n",
        "\n",
        "def character_create():\n",
        "  character_name = input('Введите имя вашего персонажа: ')\n",
        "  character = {\n",
        "      'character_info': {'name': character_name,\n",
        "                         'health': 100},\n",
        "      'armor': {'type': 'Железный нагрудник',\n",
        "                'protection': 6},\n",
        "      'weapon': {'type': 'Железный меч',\n",
        "                 'damage_min': 12,\n",
        "                 'damage_max': 16}}\n",
        "  print('Создание персонажа...')\n",
        "  time.sleep(2)\n",
        "  print('Персонаж успешно создан! Вперёд к приключениям!\\n')\n",
        "  time.sleep(2)\n",
        "  return(character)\n",
        "\n",
        "def fight(character, enemy):\n",
        "  enemies = {'goblin': {'name': 'Гоблин', 'health': 30, 'damage_min': 7, 'damage_max': 11},\n",
        "             'vasilisk': {'name': 'Василиск', 'health': 80, 'damage_min': 15, 'damage_max': 20},\n",
        "             'dragon': {'name': 'Дракон Мургарокс', 'health': 200, 'damage_min': 20, 'damage_max': 25}}\n",
        "\n",
        "  print('\\n===============================')\n",
        "  print('     ВАШИ ХАРАКТЕРИСТИКИ       ')\n",
        "  print('===============================')\n",
        "  print(' Имя:', character['character_info']['name'])\n",
        "  print(' Здоровье:', character['character_info']['health'])\n",
        "  print(' Доспехи:', character['armor']['type'])\n",
        "  print(' Защита:', character['armor']['protection'])\n",
        "  print(' Оружие:', character['weapon']['type'])\n",
        "  print(' Урон:', character['weapon']['damage_min'], '-', character['weapon']['damage_max'])\n",
        "  print('===============================')\n",
        "\n",
        "  print('===============================')\n",
        "  print('      ИНФОРМАЦИЯ О ВРАГЕ       ')\n",
        "  print('===============================')\n",
        "  print(' Имя:', enemies[enemy]['name'])\n",
        "  print(' Здоровье:', enemies[enemy]['health'])\n",
        "  print(' Урон:', enemies[enemy]['damage_min'], '-', enemies[enemy]['damage_max'])\n",
        "  print('===============================')\n",
        "\n",
        "  while True:\n",
        "    print('\\nВыберите действие:')\n",
        "    print('1 - Удар')\n",
        "    print('2 - Убежать')\n",
        "    choice = input()\n",
        "    if choice == '1':\n",
        "      damage = random.randint(character['weapon']['damage_min'], character['weapon']['damage_max'])\n",
        "      enemies[enemy]['health'] -= damage\n",
        "      print('\\nВы атакуете врага.')\n",
        "      if enemies[enemy]['health'] <= 0:\n",
        "        print('\\nВы убили', enemies[enemy]['name'] + 'а.')\n",
        "        break\n",
        "      print('Вы наносите', damage, 'урона. Остаток здоровья врага:', enemies[enemy]['health'])\n",
        "    elif choice == '2':\n",
        "      if enemy != 'goblin':\n",
        "        print('Вы хотели бежать, но', enemies[enemy]['name'], 'быстро настигает вас, и наносит смертельный удар.')\n",
        "        character['character_info']['health'] = 0\n",
        "        print('\\nВы погибли.')\n",
        "        print('\\nИгра окончена.')\n",
        "      else:\n",
        "        print('\\nВы убежали от врага.')\n",
        "      break\n",
        "    else:\n",
        "      print('Неверный выбор. Враг воспользовался вашим замещательством')\n",
        "\n",
        "    if enemies[enemy]['health'] <= 0:\n",
        "       break\n",
        "    else:\n",
        "      print('\\nВраг атакует.')\n",
        "      damage = random.randint(enemies[enemy]['damage_min'], enemies[enemy]['damage_max'])\n",
        "      character['character_info']['health'] -= damage-character['armor']['protection']\n",
        "      if character['character_info']['health'] <= 0:\n",
        "        print('\\nВраг наносит сокрушительный удал. Вы погибли.')\n",
        "        print('\\nИгра окончена.')\n",
        "        break\n",
        "      print('Враг нанес', damage-character['armor']['protection'], 'урона. Остаток здоровья:', character['character_info']['health'])\n",
        "\n",
        "print('Добро пожаловать в \"Рыцарь королевства Ардаль\"\\n')\n",
        "time.sleep(2)\n",
        "print('Для начала истории создайте персонажа.\\n')\n",
        "character = character_create()\n",
        "print('В королевстве Ардаль, дракон Мургарокс выкрал принцессу, и спрятал её в расщелье между горами Араран.')\n",
        "time.sleep(1)\n",
        "print('Рыцари отказываются от боя, но юный', character['character_info']['name'], 'решает спасти принцессу и народ.')\n",
        "time.sleep(1)\n",
        "print('Чтобы победить, он должен найти древний артефакт — Клинок Света, скрытый в руинах.')\n",
        "time.sleep(1)\n",
        "print(character['character_info']['name'], 'отправляется в опасное путешествие, зная, что сразится с величайшим злом, чтобы стать легендой или погибнуть.\\n')\n",
        "time.sleep(1)\n",
        "\n",
        "print('Король: Cэр', character['character_info']['name']+',' , 'для победы над драконом вам потребуется Клинок Света, по легенде он спрятан где-то в руинах старого города.' )\n",
        "time.sleep(1)\n",
        "print('Король: Путь к руинам лежит через Тёмный лес. Будьте осторожны! В Тёмном лесу часто встречаются разные твари.' )\n",
        "time.sleep(1)\n",
        "print('Король: Вы наша последняя надежда! Спасите принцессу!\\n')\n",
        "time.sleep(1)\n",
        "print('Собрав своё снаряжение вы отправились в тёмный лес.\\n')\n",
        "time.sleep(1)\n",
        "print('Войдя в Тёмный лес, вы услышали крик какой-то девушки. Что вы будете делать?')\n",
        "print('1 - Побежать на крик')\n",
        "print('2 - Продолжить путь не обращая внимание')\n",
        "choice = input()\n",
        "if choice == '1':\n",
        "  enemy = 'goblin'\n",
        "  print('\\nВы прибежали на крик, и увидели гоблина и девушку прячущуюся на дереве.')\n",
        "  time.sleep(1)\n",
        "  print('\\nЧто вы будете делать?')\n",
        "  print('1 - Вступить в бой с гоблином')\n",
        "  print('2 - Убежать')\n",
        "  choice = input()\n",
        "  if choice == '1':\n",
        "    print('\\nВы вступаете в бой с гоблином.')\n",
        "    fight(character, enemy)\n",
        "    time.sleep(2)\n",
        "    print('\\nВы помогли девушке спуститься с дерева, в знак благодарности она дала вам Амулет силы.\\nМаксимальный урон увеличен на 4.')\n",
        "    time.sleep(2)\n",
        "    character['weapon']['damage_max'] += 4\n",
        "  elif choice == '2':\n",
        "    print('Вы убежали от гоблина.')\n",
        "\n",
        "if character['character_info']['health'] <= 0:\n",
        "  exit(0)\n",
        "else:\n",
        "  time.sleep(1)\n",
        "  print('\\nВы отправляетесь дальше в путь.')\n",
        "  time.sleep(1)\n",
        "  print('Вы доходите до конца леса и видите впереди руины Древнего города.\\n')\n",
        "  time.sleep(1)\n",
        "  print('Пройдя в центр руин, вы замечаете Клинок Света воткнутый в камень.')\n",
        "  time.sleep(1)\n",
        "  print('Вы делаете шаг вперёд. Но вдруг земля под ногами начинает дрожать.')\n",
        "  time.sleep(1)\n",
        "  print('Из под земли появляется Василиск. Он быстро окружает вас. Бежать некуда, нужно драться.')\n",
        "  time.sleep(2)\n",
        "  print('\\nВы вступаете в бой.')\n",
        "  enemy= 'vasilisk'\n",
        "  fight(character, enemy)\n",
        "\n",
        "\n",
        "  if character['character_info']['health'] <= 0:\n",
        "    exit(0)\n",
        "  else:\n",
        "    time.sleep(1)\n",
        "    print('\\nОбессиленный вы направляетесь к Клинку Света, но об что то спотыкаетесь.\\nЭто оказался рюкзак одного из странников бывавших здесь.\\nВы замечаете зелье внутри рюкзака.')\n",
        "    print('Выпивь его вы ощущаете прилив сил и ваши раны затягиваются.')\n",
        "    time.sleep(1)\n",
        "    print('Ваше здоровье полность постановлено.')\n",
        "    time.sleep(1)\n",
        "    character['character_info']['health'] = 100\n",
        "    time.sleep(1)\n",
        "    print('\\nВы хватаете Клинок и отправляетесь к дракону.')\n",
        "    character['weapon']['type'] = 'Клинок Света'\n",
        "    character['weapon']['damage_min'] = 30\n",
        "    character['weapon']['damage_max'] = 45\n",
        "    time.sleep(2)\n",
        "    print('\\nДобравшись до расщелья. Вы проходите внутрь и вдите спящего Дракона Мургарокса.\\nНедалеко от него вы видите принцессу затачённую в клетку.')\n",
        "    print('Увидев вас принцесса обрадовалась.')\n",
        "    print('Но вдруг Дракон Мургарокс просыпается.\\n\\nВы начинаете бой с Драконом Мургароксом.')\n",
        "    time.sleep(1)\n",
        "    enemy = 'dragon'\n",
        "    fight(character, enemy)\n",
        "    time.sleep(2)\n",
        "    if character['character_info']['health'] <= 0:\n",
        "      exit(0)\n",
        "    else:\n",
        "      time.sleep(1)\n",
        "      print('\\nОсвободив принцессу, вы вернулись вместе в королевство.')\n",
        "      time.sleep(1)\n",
        "      print('Народ ликовал и благодарил вас.')\n",
        "      time.sleep(1)\n",
        "      print('Король вознаградил вас и предложил жениться на принцессе.')\n",
        "      time.sleep(1)\n",
        "      print('А то что было дальше, это уже совсем другая история...')\n",
        "      time.sleep(1)\n",
        "\n",
        "      print('\\nКонец.')\n",
        "\n"
      ]
    },
    {
      "cell_type": "markdown",
      "metadata": {
        "id": "N8oFiEXol3e2"
      },
      "source": [
        "# Задание 3\n"
      ]
    },
    {
      "cell_type": "markdown",
      "metadata": {
        "id": "9p4WQG_Vl7wB"
      },
      "source": [
        "Цель - создать менеджера команды Pokémon, который позволит пользователям:\n",
        "\n",
        "- Добавлять покемонов в свою команду. (если такого покемона еще нет в команде)\n",
        "- Удалять покемонов из их команды.\n",
        "- Просматривать подробную информацию обо всех покемонах в команде.\n",
        "- Находить покемона по имени.\n",
        "- Устраивать тренировочный бой между двумя покемонами\n",
        "\n",
        "Для данной задачи используйте: https://pokeapi.co/\n"
      ]
    },
    {
      "cell_type": "code",
      "execution_count": null,
      "metadata": {
        "id": "NnGYp1MTqi5k"
      },
      "outputs": [],
      "source": []
    }
  ],
  "metadata": {
    "colab": {
      "provenance": []
    },
    "kernelspec": {
      "display_name": "Python 3",
      "name": "python3"
    },
    "language_info": {
      "name": "python"
    }
  },
  "nbformat": 4,
  "nbformat_minor": 0
}